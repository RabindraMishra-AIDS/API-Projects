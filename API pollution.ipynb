{
 "cells": [
  {
   "cell_type": "markdown",
   "id": "96f416d6",
   "metadata": {},
   "source": [
    "# API in pollution Measurement using longitude,latitude"
   ]
  },
  {
   "cell_type": "markdown",
   "id": "13bc8cb6",
   "metadata": {},
   "source": [
    "# Api id is unique and should be stored in os environment"
   ]
  },
  {
   "cell_type": "code",
   "execution_count": 65,
   "id": "0f636f50",
   "metadata": {},
   "outputs": [],
   "source": [
    "import os                                       #Rabindra Mishra 23_AI&DS\n",
    "import requests\n",
    "from datetime import datetime"
   ]
  },
  {
   "cell_type": "code",
   "execution_count": 66,
   "id": "dacabc52",
   "metadata": {},
   "outputs": [],
   "source": [
    "rab_api=os.environ['rabindra']"
   ]
  },
  {
   "cell_type": "code",
   "execution_count": 67,
   "id": "e1884229",
   "metadata": {},
   "outputs": [
    {
     "name": "stdout",
     "output_type": "stream",
     "text": [
      "Please Enter the Latitude: 19\n",
      "Please enter the longitude: 72.5\n"
     ]
    }
   ],
   "source": [
    "latitude=input(\"Please Enter the Latitude: \")                    #rabindra_Mishra\n",
    "longitude=input(\"Please enter the longitude: \")\n"
   ]
  },
  {
   "cell_type": "code",
   "execution_count": 68,
   "id": "7a507118",
   "metadata": {},
   "outputs": [
    {
     "name": "stdout",
     "output_type": "stream",
     "text": [
      "{'coord': {'lon': 72.5, 'lat': 19}, 'list': [{'main': {'aqi': 2}, 'components': {'co': 253.68, 'no': 0, 'no2': 0.16, 'o3': 67.95, 'so2': 0.23, 'pm2_5': 18.38, 'pm10': 39.26, 'nh3': 0}, 'dt': 1682523349}]}\n"
     ]
    }
   ],
   "source": [
    "rabindra_link=\"http://api.openweathermap.org/data/2.5/air_pollution?lat=\"+latitude+\"&lon=\"+longitude+\"&appid=\"+rab_api\n",
    "rab_link=requests.get(rabindra_link)\n",
    "rabindra_data=rab_link.json()\n",
    "print(rabindra_data)\n"
   ]
  },
  {
   "cell_type": "code",
   "execution_count": 69,
   "id": "ca7bc8fa",
   "metadata": {},
   "outputs": [],
   "source": [
    "rabindra_time=datetime.now().strftime(\"%d-%m-%Y | %H:%M :%S\")\n"
   ]
  },
  {
   "cell_type": "code",
   "execution_count": 70,
   "id": "a032d0ff",
   "metadata": {},
   "outputs": [
    {
     "name": "stdout",
     "output_type": "stream",
     "text": [
      "-------------------------------------------------------\n",
      " Pollution stats of Longitude:19  &  Longitude:72.5 | 26-04-2023 | 21:05 :48\n",
      "-------------------------------------------------------\n",
      "Longitude is: 72.5\n",
      "Latitude is: 19\n",
      "*******************************************************\n",
      "Carbon {co} level is : 253.68 mg/cubic metre\n",
      "                                          \n",
      " Nitrogen Oxide is : 0 mg/cubic metre\n",
      "                                           \n",
      "Nitrogen Dioxide {NO2} : 0.16 mg/cubic/metre\n",
      "                                             \n",
      " Ozone level {03} : 67.95 mg/cubic metre\n",
      "                                        \n",
      "Sulfur Dioxide {SO2} :  0.23 mg/cubic metre\n",
      "                                             \n",
      " Ammonia  {NH3}level : 0 mg/cubic metre\n",
      "----------------------------------------------------------\n",
      "                    THANK -YOU                            \n",
      "----------------------------------------------------------\n"
     ]
    }
   ],
   "source": [
    "print(\"-------------------------------------------------------\")\n",
    "print(\" Pollution stats of Longitude:{}  &  Longitude:{} | {}\".format(latitude,longitude,rabindra_time))\n",
    "print(\"-------------------------------------------------------\")\n",
    "col=rabindra_data['coord']['lon']\n",
    "print(\"Longitude is:\",col)\n",
    "colat=rabindra_data['coord']['lat']\n",
    "print(\"Latitude is:\",colat)\n",
    "print(\"*******************************************************\")\n",
    "co=rabindra_data[\"list\"][0]['components']['co']\n",
    "print(\"Carbon {co} level is :\",co,'mg/cubic metre')\n",
    "print(\"                                          \")\n",
    "no=rabindra_data['list'][0]['components']['no']\n",
    "print(\" Nitrogen Oxide is :\",no,\"mg/cubic metre\")\n",
    "print(\"                                           \")\n",
    "no2=rabindra_data[\"list\"][0]['components']['no2']\n",
    "o3=rabindra_data[\"list\"][0]['components']['o3']\n",
    "so2=rabindra_data[\"list\"][0]['components']['so2']\n",
    "nh3=rabindra_data[\"list\"][0]['components']['nh3']\n",
    "print(\"Nitrogen Dioxide {NO2} :\",no2,'mg/cubic/metre')\n",
    "print(\"                                             \")\n",
    "print(\" Ozone level {03} :\",o3,'mg/cubic metre')\n",
    "print(\"                                        \")\n",
    "print(\"Sulfur Dioxide {SO2} : \",so2,'mg/cubic metre')\n",
    "print(\"                                             \")\n",
    "print(\" Ammonia  {NH3}level :\",nh3,'mg/cubic metre')\n",
    "print(\"----------------------------------------------------------\")\n",
    "print(\"                    THANK -YOU                            \")\n",
    "print(\"----------------------------------------------------------\")\n"
   ]
  },
  {
   "cell_type": "code",
   "execution_count": null,
   "id": "138031dc",
   "metadata": {},
   "outputs": [],
   "source": []
  }
 ],
 "metadata": {
  "kernelspec": {
   "display_name": "Python 3 (ipykernel)",
   "language": "python",
   "name": "python3"
  },
  "language_info": {
   "codemirror_mode": {
    "name": "ipython",
    "version": 3
   },
   "file_extension": ".py",
   "mimetype": "text/x-python",
   "name": "python",
   "nbconvert_exporter": "python",
   "pygments_lexer": "ipython3",
   "version": "3.9.13"
  }
 },
 "nbformat": 4,
 "nbformat_minor": 5
}
